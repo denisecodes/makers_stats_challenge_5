{
 "cells": [
  {
   "cell_type": "markdown",
   "metadata": {},
   "source": [
    "# Clustering - K-means\n",
    "\n"
   ]
  },
  {
   "cell_type": "markdown",
   "metadata": {},
   "source": [
    "## Import libraries\n",
    "---"
   ]
  },
  {
   "cell_type": "code",
   "execution_count": 56,
   "metadata": {},
   "outputs": [],
   "source": [
    "import pandas as pd                               # For dataframes\n",
    "import matplotlib.pyplot as plt                   # For plotting data\n",
    "import seaborn as sns                             # For plotting data\n",
    "from sklearn.cluster import KMeans                # For k-Means\n",
    "from sklearn.model_selection import GridSearchCV  # For grid search\n",
    "from sklearn.metrics import silhouette_score      # For metrics and scores\n",
    "from sklearn.preprocessing import StandardScaler  # For standardizing data\n",
    "import numpy as np"
   ]
  },
  {
   "cell_type": "markdown",
   "metadata": {},
   "source": [
    "# Load and prepare data\n",
    "Read the `iris.csv` file in variable `df`. Keep all features in variable `df` and store the class variable in `species`. Also, standardize the data so each variable has a mean of zero and unit variance (i.e., variance and standard deviation of one)."
   ]
  },
  {
   "cell_type": "code",
   "execution_count": 57,
   "metadata": {},
   "outputs": [
    {
     "data": {
      "text/html": [
       "<div>\n",
       "<style scoped>\n",
       "    .dataframe tbody tr th:only-of-type {\n",
       "        vertical-align: middle;\n",
       "    }\n",
       "\n",
       "    .dataframe tbody tr th {\n",
       "        vertical-align: top;\n",
       "    }\n",
       "\n",
       "    .dataframe thead th {\n",
       "        text-align: right;\n",
       "    }\n",
       "</style>\n",
       "<table border=\"1\" class=\"dataframe\">\n",
       "  <thead>\n",
       "    <tr style=\"text-align: right;\">\n",
       "      <th></th>\n",
       "      <th>sepal_length</th>\n",
       "      <th>sepal_width</th>\n",
       "      <th>petal_length</th>\n",
       "      <th>petal_width</th>\n",
       "    </tr>\n",
       "  </thead>\n",
       "  <tbody>\n",
       "    <tr>\n",
       "      <th>0</th>\n",
       "      <td>-0.900681</td>\n",
       "      <td>1.032057</td>\n",
       "      <td>-1.341272</td>\n",
       "      <td>-1.312977</td>\n",
       "    </tr>\n",
       "    <tr>\n",
       "      <th>1</th>\n",
       "      <td>-1.143017</td>\n",
       "      <td>-0.124958</td>\n",
       "      <td>-1.341272</td>\n",
       "      <td>-1.312977</td>\n",
       "    </tr>\n",
       "    <tr>\n",
       "      <th>2</th>\n",
       "      <td>-1.385353</td>\n",
       "      <td>0.337848</td>\n",
       "      <td>-1.398138</td>\n",
       "      <td>-1.312977</td>\n",
       "    </tr>\n",
       "    <tr>\n",
       "      <th>3</th>\n",
       "      <td>-1.506521</td>\n",
       "      <td>0.106445</td>\n",
       "      <td>-1.284407</td>\n",
       "      <td>-1.312977</td>\n",
       "    </tr>\n",
       "    <tr>\n",
       "      <th>4</th>\n",
       "      <td>-1.021849</td>\n",
       "      <td>1.263460</td>\n",
       "      <td>-1.341272</td>\n",
       "      <td>-1.312977</td>\n",
       "    </tr>\n",
       "  </tbody>\n",
       "</table>\n",
       "</div>"
      ],
      "text/plain": [
       "   sepal_length  sepal_width  petal_length  petal_width\n",
       "0     -0.900681     1.032057     -1.341272    -1.312977\n",
       "1     -1.143017    -0.124958     -1.341272    -1.312977\n",
       "2     -1.385353     0.337848     -1.398138    -1.312977\n",
       "3     -1.506521     0.106445     -1.284407    -1.312977\n",
       "4     -1.021849     1.263460     -1.341272    -1.312977"
      ]
     },
     "execution_count": 57,
     "metadata": {},
     "output_type": "execute_result"
    }
   ],
   "source": [
    "# Reads the .csv file into variable df\n",
    "df = pd.read_csv('iris.csv')\n",
    "\n",
    "#Separates the class variable in the species column\n",
    "species = df.species\n",
    "\n",
    "#Removes the species column from df\n",
    "df = df.drop('species', axis=1)\n",
    "\n",
    "#Standardizes df\n",
    "df = pd.DataFrame(\n",
    "    StandardScaler().fit_transform(df),\n",
    "    columns=df.columns)\n",
    "\n",
    "# Displays the first 5 rows of df\n",
    "df.head()"
   ]
  },
  {
   "cell_type": "code",
   "execution_count": 58,
   "metadata": {},
   "outputs": [
    {
     "data": {
      "text/plain": [
       "array(['setosa', 'versicolor', 'virginica'], dtype=object)"
      ]
     },
     "execution_count": 58,
     "metadata": {},
     "output_type": "execute_result"
    }
   ],
   "source": [
    "species.unique()"
   ]
  },
  {
   "cell_type": "markdown",
   "metadata": {},
   "source": [
    "This shows that there a 3 unique species of Irises according to the dataset but it's important to do a k-means plot to see if this is right for clustering/grouping and if it needs adjusting. "
   ]
  },
  {
   "cell_type": "markdown",
   "metadata": {},
   "source": [
    "## Running k-means\n",
    "---\n",
    "\n",
    "### k-Means: Train the Model\n",
    "We'll set up a `KMeans` object with the following parameters:\n",
    "\n",
    "- `n_clusters`: Total number of clusters to make.\n",
    "- `random_state`: Set to one to reproduce these results.\n",
    "- `init`: How to initialize the k-means centers; we'll use `k-means++`.\n",
    "- `n_init`: Number of times k-means would be run; the model returned would have the minimum value of `inertia`.\n",
    "\n",
    "A few attributes of the `KMeans` object, which are also used in this demo are:\n",
    "- `cluster_centers_`: Stores the discovered cluster centers.\n",
    "- `labels_`: Label of each instance.\n",
    "- `inertia`: Sum of square of distances of each instance from its corresponding center.\n",
    "- `n_iter`: Number of iterations run to find the centers."
   ]
  },
  {
   "cell_type": "code",
   "execution_count": 59,
   "metadata": {},
   "outputs": [
    {
     "data": {
      "text/plain": [
       "{'algorithm': 'lloyd',\n",
       " 'copy_x': True,\n",
       " 'init': 'k-means++',\n",
       " 'max_iter': 300,\n",
       " 'n_clusters': 3,\n",
       " 'n_init': 10,\n",
       " 'random_state': 1,\n",
       " 'tol': 0.0001,\n",
       " 'verbose': 0}"
      ]
     },
     "execution_count": 59,
     "metadata": {},
     "output_type": "execute_result"
    }
   ],
   "source": [
    "# Sets up the kMeans object\n",
    "km = KMeans(\n",
    "    n_clusters=3,\n",
    "    random_state=1,\n",
    "    init='k-means++',\n",
    "    n_init=10)\n",
    "\n",
    "# Fits the model to the data\n",
    "km.fit(df)\n",
    "\n",
    "# Displays the parameters of the fitted model\n",
    "km.get_params()"
   ]
  },
  {
   "cell_type": "markdown",
   "metadata": {},
   "source": [
    "Choose 3 clusters here given what we know about the number of unique species from the dataset"
   ]
  },
  {
   "cell_type": "markdown",
   "metadata": {},
   "source": [
    "### k-Means: Visualize the Clusters\n",
    "\n",
    "The code below creates a scatterplot of the first two features. Each point is colored according to its actual label. For comparison, each instance is drawn with a marker according to the label found by the clustering algorithm."
   ]
  },
  {
   "cell_type": "code",
   "execution_count": 60,
   "metadata": {},
   "outputs": [
    {
     "data": {
      "text/plain": [
       "Index(['sepal_length', 'sepal_width', 'petal_length', 'petal_width'], dtype='object')"
      ]
     },
     "execution_count": 60,
     "metadata": {},
     "output_type": "execute_result"
    }
   ],
   "source": [
    "df.columns"
   ]
  },
  {
   "cell_type": "code",
   "execution_count": 61,
   "metadata": {},
   "outputs": [
    {
     "data": {
      "text/plain": [
       "<matplotlib.legend.Legend at 0x1315c8e50>"
      ]
     },
     "execution_count": 61,
     "metadata": {},
     "output_type": "execute_result"
    },
    {
     "data": {
      "image/png": "[encoded data removed]",
      "text/plain": [
       "<Figure size 640x480 with 1 Axes>"
      ]
     },
     "metadata": {},
     "output_type": "display_data"
    }
   ],
   "source": [
    "# Creates a scatter plot\n",
    "sns.scatterplot(\n",
    "    x='sepal_length', \n",
    "    y='sepal_width',\n",
    "    data=df, \n",
    "    hue=species,\n",
    "    style=km.labels_,\n",
    "    palette=[\"green\", \"orange\", \"blue\"])\n",
    "# Adds cluster centers to the same plot\n",
    "plt.scatter(\n",
    "    km.cluster_centers_[:,0],\n",
    "    km.cluster_centers_[:,1],\n",
    "    marker='o',\n",
    "    s=100,\n",
    "    c='red')\n",
    "\n",
    "# Adds labels to the axes\n",
    "plt.xlabel('Sepal length (cm)')\n",
    "plt.ylabel('Sepal width (cm)')\n",
    "\n",
    "plt.legend(\n",
    "    title='Species',\n",
    "    bbox_to_anchor=(1.3, 1.0))\n"
   ]
  },
  {
   "cell_type": "markdown",
   "metadata": {},
   "source": [
    "This set up the Initial scatter plot with the Iris Flowers data and from my initial thoughts, we can see the Setosa cluster identified effective with its center. However for Setosa and Versicolor, it's not as clear with the data points blurring between them. This makes it difficult to identify the clusters here, which is why we should find the optimal number of clusters. Perhaps three clusters wasn't the right number so let's have a look at what could be a better number of clusters"
   ]
  },
  {
   "cell_type": "markdown",
   "metadata": {},
   "source": [
    "## k-means: Optimize via silhouette scores\n",
    "---\n",
    "The main challenge in k-means is to find the optimal number of clusters. We can set up a `GridSearchCV` object to search for the optimal parameters. For k-Mmeans, we require a custom scorer that computes the silhouette value for different number of clusters specified by `n_clusters`. The custom scorer is called `s2()` in the code below, where it uses `silhouette_score()` from the `sklearn.metrics` library to compute a score for an instance `X`. \n",
    "\n",
    "A silhouette score is a value in [-1,+1]. It is a means for comparing how similar an instance is to its corresponding cluster compared to its similarity with other clusters. Formally, it takes into account `cohesion` and `separation` to compute a silhouette value. A +1 or close to this score value indicates better clusters."
   ]
  },
  {
   "cell_type": "code",
   "execution_count": 62,
   "metadata": {},
   "outputs": [
    {
     "name": "stderr",
     "output_type": "stream",
     "text": [
      "/Users/denisechan/Documents/Makers/Data_Engineering/Week_2/Challenge/stats_challenge_5/stats-challenge-5/lib/python3.11/site-packages/sklearn/cluster/_kmeans.py:1416: FutureWarning: The default value of `n_init` will change from 10 to 'auto' in 1.4. Set the value of `n_init` explicitly to suppress the warning\n",
      "  super()._check_params_vs_input(X, default_n_init=10)\n",
      "/Users/denisechan/Documents/Makers/Data_Engineering/Week_2/Challenge/stats_challenge_5/stats-challenge-5/lib/python3.11/site-packages/sklearn/cluster/_kmeans.py:1416: FutureWarning: The default value of `n_init` will change from 10 to 'auto' in 1.4. Set the value of `n_init` explicitly to suppress the warning\n",
      "  super()._check_params_vs_input(X, default_n_init=10)\n",
      "/Users/denisechan/Documents/Makers/Data_Engineering/Week_2/Challenge/stats_challenge_5/stats-challenge-5/lib/python3.11/site-packages/sklearn/model_selection/_validation.py:821: UserWarning: Scoring failed. The score on this train-test partition for these parameters will be set to nan. Details: \n",
      "Traceback (most recent call last):\n",
      "  File \"/Users/denisechan/Documents/Makers/Data_Engineering/Week_2/Challenge/stats_challenge_5/stats-challenge-5/lib/python3.11/site-packages/sklearn/model_selection/_validation.py\", line 808, in _score\n",
      "    scores = scorer(estimator, X_test)\n",
      "             ^^^^^^^^^^^^^^^^^^^^^^^^^\n",
      "  File \"/var/folders/xb/mvsqsvhs72x7xp8cjgv_8h3m0000gn/T/ipykernel_5894/202258590.py\", line 3, in s2\n",
      "    return silhouette_score(X, estimator.predict(X))\n",
      "           ^^^^^^^^^^^^^^^^^^^^^^^^^^^^^^^^^^^^^^^^^\n",
      "  File \"/Users/denisechan/Documents/Makers/Data_Engineering/Week_2/Challenge/stats_challenge_5/stats-challenge-5/lib/python3.11/site-packages/sklearn/utils/_param_validation.py\", line 214, in wrapper\n",
      "    return func(*args, **kwargs)\n",
      "           ^^^^^^^^^^^^^^^^^^^^^\n",
      "  File \"/Users/denisechan/Documents/Makers/Data_Engineering/Week_2/Challenge/stats_challenge_5/stats-challenge-5/lib/python3.11/site-packages/sklearn/metrics/cluster/_unsupervised.py\", line 130, in silhouette_score\n",
      "    return np.mean(silhouette_samples(X, labels, metric=metric, **kwds))\n",
      "                   ^^^^^^^^^^^^^^^^^^^^^^^^^^^^^^^^^^^^^^^^^^^^^^^^^^^^\n",
      "  File \"/Users/denisechan/Documents/Makers/Data_Engineering/Week_2/Challenge/stats_challenge_5/stats-challenge-5/lib/python3.11/site-packages/sklearn/utils/_param_validation.py\", line 187, in wrapper\n",
      "    return func(*args, **kwargs)\n",
      "           ^^^^^^^^^^^^^^^^^^^^^\n",
      "  File \"/Users/denisechan/Documents/Makers/Data_Engineering/Week_2/Challenge/stats_challenge_5/stats-challenge-5/lib/python3.11/site-packages/sklearn/metrics/cluster/_unsupervised.py\", line 276, in silhouette_samples\n",
      "    check_number_of_labels(len(le.classes_), n_samples)\n",
      "  File \"/Users/denisechan/Documents/Makers/Data_Engineering/Week_2/Challenge/stats_challenge_5/stats-challenge-5/lib/python3.11/site-packages/sklearn/metrics/cluster/_unsupervised.py\", line 37, in check_number_of_labels\n",
      "    raise ValueError(\n",
      "ValueError: Number of labels is 1. Valid values are 2 to n_samples - 1 (inclusive)\n",
      "\n",
      "  warnings.warn(\n",
      "/Users/denisechan/Documents/Makers/Data_Engineering/Week_2/Challenge/stats_challenge_5/stats-challenge-5/lib/python3.11/site-packages/sklearn/cluster/_kmeans.py:1416: FutureWarning: The default value of `n_init` will change from 10 to 'auto' in 1.4. Set the value of `n_init` explicitly to suppress the warning\n",
      "  super()._check_params_vs_input(X, default_n_init=10)\n",
      "/Users/denisechan/Documents/Makers/Data_Engineering/Week_2/Challenge/stats_challenge_5/stats-challenge-5/lib/python3.11/site-packages/sklearn/cluster/_kmeans.py:1416: FutureWarning: The default value of `n_init` will change from 10 to 'auto' in 1.4. Set the value of `n_init` explicitly to suppress the warning\n",
      "  super()._check_params_vs_input(X, default_n_init=10)\n",
      "/Users/denisechan/Documents/Makers/Data_Engineering/Week_2/Challenge/stats_challenge_5/stats-challenge-5/lib/python3.11/site-packages/sklearn/model_selection/_validation.py:821: UserWarning: Scoring failed. The score on this train-test partition for these parameters will be set to nan. Details: \n",
      "Traceback (most recent call last):\n",
      "  File \"/Users/denisechan/Documents/Makers/Data_Engineering/Week_2/Challenge/stats_challenge_5/stats-challenge-5/lib/python3.11/site-packages/sklearn/model_selection/_validation.py\", line 808, in _score\n",
      "    scores = scorer(estimator, X_test)\n",
      "             ^^^^^^^^^^^^^^^^^^^^^^^^^\n",
      "  File \"/var/folders/xb/mvsqsvhs72x7xp8cjgv_8h3m0000gn/T/ipykernel_5894/202258590.py\", line 3, in s2\n",
      "    return silhouette_score(X, estimator.predict(X))\n",
      "           ^^^^^^^^^^^^^^^^^^^^^^^^^^^^^^^^^^^^^^^^^\n",
      "  File \"/Users/denisechan/Documents/Makers/Data_Engineering/Week_2/Challenge/stats_challenge_5/stats-challenge-5/lib/python3.11/site-packages/sklearn/utils/_param_validation.py\", line 214, in wrapper\n",
      "    return func(*args, **kwargs)\n",
      "           ^^^^^^^^^^^^^^^^^^^^^\n",
      "  File \"/Users/denisechan/Documents/Makers/Data_Engineering/Week_2/Challenge/stats_challenge_5/stats-challenge-5/lib/python3.11/site-packages/sklearn/metrics/cluster/_unsupervised.py\", line 130, in silhouette_score\n",
      "    return np.mean(silhouette_samples(X, labels, metric=metric, **kwds))\n",
      "                   ^^^^^^^^^^^^^^^^^^^^^^^^^^^^^^^^^^^^^^^^^^^^^^^^^^^^\n",
      "  File \"/Users/denisechan/Documents/Makers/Data_Engineering/Week_2/Challenge/stats_challenge_5/stats-challenge-5/lib/python3.11/site-packages/sklearn/utils/_param_validation.py\", line 187, in wrapper\n",
      "    return func(*args, **kwargs)\n",
      "           ^^^^^^^^^^^^^^^^^^^^^\n",
      "  File \"/Users/denisechan/Documents/Makers/Data_Engineering/Week_2/Challenge/stats_challenge_5/stats-challenge-5/lib/python3.11/site-packages/sklearn/metrics/cluster/_unsupervised.py\", line 276, in silhouette_samples\n",
      "    check_number_of_labels(len(le.classes_), n_samples)\n",
      "  File \"/Users/denisechan/Documents/Makers/Data_Engineering/Week_2/Challenge/stats_challenge_5/stats-challenge-5/lib/python3.11/site-packages/sklearn/metrics/cluster/_unsupervised.py\", line 37, in check_number_of_labels\n",
      "    raise ValueError(\n",
      "ValueError: Number of labels is 1. Valid values are 2 to n_samples - 1 (inclusive)\n",
      "\n",
      "  warnings.warn(\n",
      "/Users/denisechan/Documents/Makers/Data_Engineering/Week_2/Challenge/stats_challenge_5/stats-challenge-5/lib/python3.11/site-packages/sklearn/cluster/_kmeans.py:1416: FutureWarning: The default value of `n_init` will change from 10 to 'auto' in 1.4. Set the value of `n_init` explicitly to suppress the warning\n",
      "  super()._check_params_vs_input(X, default_n_init=10)\n",
      "/Users/denisechan/Documents/Makers/Data_Engineering/Week_2/Challenge/stats_challenge_5/stats-challenge-5/lib/python3.11/site-packages/sklearn/cluster/_kmeans.py:1416: FutureWarning: The default value of `n_init` will change from 10 to 'auto' in 1.4. Set the value of `n_init` explicitly to suppress the warning\n",
      "  super()._check_params_vs_input(X, default_n_init=10)\n",
      "/Users/denisechan/Documents/Makers/Data_Engineering/Week_2/Challenge/stats_challenge_5/stats-challenge-5/lib/python3.11/site-packages/sklearn/cluster/_kmeans.py:1416: FutureWarning: The default value of `n_init` will change from 10 to 'auto' in 1.4. Set the value of `n_init` explicitly to suppress the warning\n",
      "  super()._check_params_vs_input(X, default_n_init=10)\n",
      "/Users/denisechan/Documents/Makers/Data_Engineering/Week_2/Challenge/stats_challenge_5/stats-challenge-5/lib/python3.11/site-packages/sklearn/cluster/_kmeans.py:1416: FutureWarning: The default value of `n_init` will change from 10 to 'auto' in 1.4. Set the value of `n_init` explicitly to suppress the warning\n",
      "  super()._check_params_vs_input(X, default_n_init=10)\n",
      "/Users/denisechan/Documents/Makers/Data_Engineering/Week_2/Challenge/stats_challenge_5/stats-challenge-5/lib/python3.11/site-packages/sklearn/cluster/_kmeans.py:1416: FutureWarning: The default value of `n_init` will change from 10 to 'auto' in 1.4. Set the value of `n_init` explicitly to suppress the warning\n",
      "  super()._check_params_vs_input(X, default_n_init=10)\n",
      "/Users/denisechan/Documents/Makers/Data_Engineering/Week_2/Challenge/stats_challenge_5/stats-challenge-5/lib/python3.11/site-packages/sklearn/cluster/_kmeans.py:1416: FutureWarning: The default value of `n_init` will change from 10 to 'auto' in 1.4. Set the value of `n_init` explicitly to suppress the warning\n",
      "  super()._check_params_vs_input(X, default_n_init=10)\n",
      "/Users/denisechan/Documents/Makers/Data_Engineering/Week_2/Challenge/stats_challenge_5/stats-challenge-5/lib/python3.11/site-packages/sklearn/cluster/_kmeans.py:1416: FutureWarning: The default value of `n_init` will change from 10 to 'auto' in 1.4. Set the value of `n_init` explicitly to suppress the warning\n",
      "  super()._check_params_vs_input(X, default_n_init=10)\n",
      "/Users/denisechan/Documents/Makers/Data_Engineering/Week_2/Challenge/stats_challenge_5/stats-challenge-5/lib/python3.11/site-packages/sklearn/cluster/_kmeans.py:1416: FutureWarning: The default value of `n_init` will change from 10 to 'auto' in 1.4. Set the value of `n_init` explicitly to suppress the warning\n",
      "  super()._check_params_vs_input(X, default_n_init=10)\n",
      "/Users/denisechan/Documents/Makers/Data_Engineering/Week_2/Challenge/stats_challenge_5/stats-challenge-5/lib/python3.11/site-packages/sklearn/cluster/_kmeans.py:1416: FutureWarning: The default value of `n_init` will change from 10 to 'auto' in 1.4. Set the value of `n_init` explicitly to suppress the warning\n",
      "  super()._check_params_vs_input(X, default_n_init=10)\n",
      "/Users/denisechan/Documents/Makers/Data_Engineering/Week_2/Challenge/stats_challenge_5/stats-challenge-5/lib/python3.11/site-packages/sklearn/cluster/_kmeans.py:1416: FutureWarning: The default value of `n_init` will change from 10 to 'auto' in 1.4. Set the value of `n_init` explicitly to suppress the warning\n",
      "  super()._check_params_vs_input(X, default_n_init=10)\n",
      "/Users/denisechan/Documents/Makers/Data_Engineering/Week_2/Challenge/stats_challenge_5/stats-challenge-5/lib/python3.11/site-packages/sklearn/cluster/_kmeans.py:1416: FutureWarning: The default value of `n_init` will change from 10 to 'auto' in 1.4. Set the value of `n_init` explicitly to suppress the warning\n",
      "  super()._check_params_vs_input(X, default_n_init=10)\n",
      "/Users/denisechan/Documents/Makers/Data_Engineering/Week_2/Challenge/stats_challenge_5/stats-challenge-5/lib/python3.11/site-packages/sklearn/cluster/_kmeans.py:1416: FutureWarning: The default value of `n_init` will change from 10 to 'auto' in 1.4. Set the value of `n_init` explicitly to suppress the warning\n",
      "  super()._check_params_vs_input(X, default_n_init=10)\n",
      "/Users/denisechan/Documents/Makers/Data_Engineering/Week_2/Challenge/stats_challenge_5/stats-challenge-5/lib/python3.11/site-packages/sklearn/cluster/_kmeans.py:1416: FutureWarning: The default value of `n_init` will change from 10 to 'auto' in 1.4. Set the value of `n_init` explicitly to suppress the warning\n",
      "  super()._check_params_vs_input(X, default_n_init=10)\n",
      "/Users/denisechan/Documents/Makers/Data_Engineering/Week_2/Challenge/stats_challenge_5/stats-challenge-5/lib/python3.11/site-packages/sklearn/cluster/_kmeans.py:1416: FutureWarning: The default value of `n_init` will change from 10 to 'auto' in 1.4. Set the value of `n_init` explicitly to suppress the warning\n",
      "  super()._check_params_vs_input(X, default_n_init=10)\n",
      "/Users/denisechan/Documents/Makers/Data_Engineering/Week_2/Challenge/stats_challenge_5/stats-challenge-5/lib/python3.11/site-packages/sklearn/model_selection/_search.py:979: UserWarning: One or more of the test scores are non-finite: [       nan        nan 0.31713194 0.29222146 0.15411177 0.22211121\n",
      " 0.21349515 0.20725851 0.15814141]\n",
      "  warnings.warn(\n",
      "/Users/denisechan/Documents/Makers/Data_Engineering/Week_2/Challenge/stats_challenge_5/stats-challenge-5/lib/python3.11/site-packages/sklearn/cluster/_kmeans.py:1416: FutureWarning: The default value of `n_init` will change from 10 to 'auto' in 1.4. Set the value of `n_init` explicitly to suppress the warning\n",
      "  super()._check_params_vs_input(X, default_n_init=10)\n"
     ]
    },
    {
     "data": {
      "text/plain": [
       "{'algorithm': 'lloyd',\n",
       " 'copy_x': True,\n",
       " 'init': 'k-means++',\n",
       " 'max_iter': 300,\n",
       " 'n_clusters': 4,\n",
       " 'n_init': 'warn',\n",
       " 'random_state': 0,\n",
       " 'tol': 0.0001,\n",
       " 'verbose': 0}"
      ]
     },
     "execution_count": 62,
     "metadata": {},
     "output_type": "execute_result"
    }
   ],
   "source": [
    "# Sets up the custom scorer\n",
    "def s2(estimator,X):\n",
    "    return silhouette_score(X, estimator.predict(X))\n",
    "\n",
    "# List of values for the parameter `n_clusters`\n",
    "param = range(2,11)\n",
    "\n",
    "# KMeans object\n",
    "km = KMeans(random_state=0, init='k-means++')\n",
    "\n",
    "# Sets up GridSearchCV object and stores in grid variable\n",
    "grid = GridSearchCV(\n",
    "    km,\n",
    "    {'n_clusters': param},\n",
    "    scoring=s2,\n",
    "    cv=2)\n",
    "\n",
    "# Fits the grid object to data\n",
    "grid.fit(df)\n",
    "\n",
    "# Accesses the optimum model\n",
    "best_km = grid.best_estimator_\n",
    "\n",
    "# Displays the optimum model\n",
    "best_km.get_params()"
   ]
  },
  {
   "cell_type": "markdown",
   "metadata": {},
   "source": [
    "From this output, it seems 4 clusters would be the optimal number"
   ]
  },
  {
   "cell_type": "markdown",
   "metadata": {},
   "source": [
    "## Plot of Scores for Different Number of Clusters\n",
    "The `grid` object has an attribute `cv_results_` through which the scores for different `n_clusters` can be accessed."
   ]
  },
  {
   "cell_type": "code",
   "execution_count": 63,
   "metadata": {},
   "outputs": [
    {
     "data": {
      "text/plain": [
       "Text(0, 0.5, 'Silhouette Score')"
      ]
     },
     "execution_count": 63,
     "metadata": {},
     "output_type": "execute_result"
    },
    {
     "data": {
      "image/png": "[encoded data removed]",
      "text/plain": [
       "<Figure size 640x480 with 1 Axes>"
      ]
     },
     "metadata": {},
     "output_type": "display_data"
    }
   ],
   "source": [
    "# Plot mean_test_scores vs. n_clusters\n",
    "plt.plot(\n",
    "    param,\n",
    "    grid.cv_results_['mean_test_score'])\n",
    "\n",
    "# Draw a vertical line, where the best model is\n",
    "plt.axvline(\n",
    "    x=best_km.n_clusters, \n",
    "    color='red',\n",
    "    ls='--')\n",
    "\n",
    "# Adds labels to the plot\n",
    "plt.xlabel('Total Centers')\n",
    "plt.ylabel('Silhouette Score')"
   ]
  },
  {
   "cell_type": "markdown",
   "metadata": {},
   "source": [
    "We can see from this graph it's indicating the 3 or 4 total centers/clusters would be the optimal number as it starts to drop off after that point. 4 is what the line is pointing at and is a score almost at 0.5 which indicates it's reasonable. I also think 3 is reasonable given it's betwee 0.45 and 0.5. "
   ]
  },
  {
   "cell_type": "markdown",
   "metadata": {},
   "source": [
    "## Visualize the Best Model\n",
    "Code below creates a visualization of the clusters stored in the optimum model `best_km`."
   ]
  },
  {
   "cell_type": "code",
   "execution_count": 64,
   "metadata": {},
   "outputs": [
    {
     "data": {
      "text/plain": [
       "<matplotlib.legend.Legend at 0x13144dad0>"
      ]
     },
     "execution_count": 64,
     "metadata": {},
     "output_type": "execute_result"
    },
    {
     "data": {
      "image/png": "[encoded data removed]",
      "text/plain": [
       "<Figure size 640x480 with 1 Axes>"
      ]
     },
     "metadata": {},
     "output_type": "display_data"
    }
   ],
   "source": [
    "# Creates a scatter plot\n",
    "sns.scatterplot(\n",
    "    x='sepal_length', \n",
    "    y='sepal_width',\n",
    "    data=df, \n",
    "    hue = species,\n",
    "    style=best_km.labels_,\n",
    "    palette=['orange', 'green', 'blue'])\n",
    "\n",
    "# Adds cluster centers to the same plot\n",
    "plt.scatter(\n",
    "    best_km.cluster_centers_[:, 0],\n",
    "    best_km.cluster_centers_[:, 1],\n",
    "    marker='o',\n",
    "    s=100,\n",
    "    c='red')\n",
    "\n",
    "plt.legend(\n",
    "    title='Species',\n",
    "    bbox_to_anchor=(1.3, 1.0))\n"
   ]
  },
  {
   "cell_type": "markdown",
   "metadata": {},
   "source": [
    "Looking at this and plotting it base on the optimal number of 4, i think it's worse than 3 clusters. The extra point on Setosa species feels unnecessary."
   ]
  },
  {
   "cell_type": "code",
   "execution_count": 65,
   "metadata": {},
   "outputs": [
    {
     "name": "stderr",
     "output_type": "stream",
     "text": [
      "/Users/denisechan/Documents/Makers/Data_Engineering/Week_2/Challenge/stats_challenge_5/stats-challenge-5/lib/python3.11/site-packages/sklearn/cluster/_kmeans.py:1416: FutureWarning: The default value of `n_init` will change from 10 to 'auto' in 1.4. Set the value of `n_init` explicitly to suppress the warning\n",
      "  super()._check_params_vs_input(X, default_n_init=10)\n"
     ]
    },
    {
     "data": {
      "text/plain": [
       "array([3, 0, 0, 0, 3, 3, 0, 3, 0, 0, 3, 0, 0, 0, 3, 3, 3, 3, 3, 3, 3, 3,\n",
       "       3, 0, 0, 0, 3, 3, 3, 0, 0, 3, 3, 3, 0, 0, 3, 0, 0, 3, 3, 0, 0, 3,\n",
       "       3, 0, 3, 0, 3, 0, 2, 2, 2, 1, 1, 1, 2, 1, 1, 1, 1, 1, 1, 1, 1, 2,\n",
       "       1, 1, 1, 1, 2, 1, 1, 1, 1, 2, 2, 2, 1, 1, 1, 1, 1, 1, 1, 2, 2, 1,\n",
       "       1, 1, 1, 1, 1, 1, 1, 1, 1, 1, 1, 1, 2, 1, 2, 2, 2, 2, 1, 2, 2, 2,\n",
       "       2, 2, 2, 1, 1, 2, 2, 2, 2, 1, 2, 1, 2, 1, 2, 2, 1, 2, 2, 2, 2, 2,\n",
       "       2, 1, 1, 2, 2, 2, 1, 2, 2, 2, 1, 2, 2, 2, 1, 2, 2, 1], dtype=int32)"
      ]
     },
     "execution_count": 65,
     "metadata": {},
     "output_type": "execute_result"
    }
   ],
   "source": [
    "km = KMeans(n_clusters=4)\n",
    "y_predicted = km.fit_predict(df[['sepal_length', 'sepal_width', 'petal_length', 'petal_width']])\n",
    "y_predicted"
   ]
  },
  {
   "cell_type": "code",
   "execution_count": 66,
   "metadata": {},
   "outputs": [],
   "source": [
    "df[\"cluster\"]=y_predicted"
   ]
  },
  {
   "cell_type": "code",
   "execution_count": 67,
   "metadata": {},
   "outputs": [
    {
     "data": {
      "text/html": [
       "<div>\n",
       "<style scoped>\n",
       "    .dataframe tbody tr th:only-of-type {\n",
       "        vertical-align: middle;\n",
       "    }\n",
       "\n",
       "    .dataframe tbody tr th {\n",
       "        vertical-align: top;\n",
       "    }\n",
       "\n",
       "    .dataframe thead th {\n",
       "        text-align: right;\n",
       "    }\n",
       "</style>\n",
       "<table border=\"1\" class=\"dataframe\">\n",
       "  <thead>\n",
       "    <tr style=\"text-align: right;\">\n",
       "      <th></th>\n",
       "      <th>sepal_length</th>\n",
       "      <th>sepal_width</th>\n",
       "      <th>petal_length</th>\n",
       "      <th>petal_width</th>\n",
       "      <th>cluster</th>\n",
       "    </tr>\n",
       "  </thead>\n",
       "  <tbody>\n",
       "    <tr>\n",
       "      <th>0</th>\n",
       "      <td>-0.900681</td>\n",
       "      <td>1.032057</td>\n",
       "      <td>-1.341272</td>\n",
       "      <td>-1.312977</td>\n",
       "      <td>3</td>\n",
       "    </tr>\n",
       "    <tr>\n",
       "      <th>1</th>\n",
       "      <td>-1.143017</td>\n",
       "      <td>-0.124958</td>\n",
       "      <td>-1.341272</td>\n",
       "      <td>-1.312977</td>\n",
       "      <td>0</td>\n",
       "    </tr>\n",
       "    <tr>\n",
       "      <th>2</th>\n",
       "      <td>-1.385353</td>\n",
       "      <td>0.337848</td>\n",
       "      <td>-1.398138</td>\n",
       "      <td>-1.312977</td>\n",
       "      <td>0</td>\n",
       "    </tr>\n",
       "    <tr>\n",
       "      <th>3</th>\n",
       "      <td>-1.506521</td>\n",
       "      <td>0.106445</td>\n",
       "      <td>-1.284407</td>\n",
       "      <td>-1.312977</td>\n",
       "      <td>0</td>\n",
       "    </tr>\n",
       "    <tr>\n",
       "      <th>4</th>\n",
       "      <td>-1.021849</td>\n",
       "      <td>1.263460</td>\n",
       "      <td>-1.341272</td>\n",
       "      <td>-1.312977</td>\n",
       "      <td>3</td>\n",
       "    </tr>\n",
       "    <tr>\n",
       "      <th>...</th>\n",
       "      <td>...</td>\n",
       "      <td>...</td>\n",
       "      <td>...</td>\n",
       "      <td>...</td>\n",
       "      <td>...</td>\n",
       "    </tr>\n",
       "    <tr>\n",
       "      <th>145</th>\n",
       "      <td>1.038005</td>\n",
       "      <td>-0.124958</td>\n",
       "      <td>0.819624</td>\n",
       "      <td>1.447956</td>\n",
       "      <td>2</td>\n",
       "    </tr>\n",
       "    <tr>\n",
       "      <th>146</th>\n",
       "      <td>0.553333</td>\n",
       "      <td>-1.281972</td>\n",
       "      <td>0.705893</td>\n",
       "      <td>0.922064</td>\n",
       "      <td>1</td>\n",
       "    </tr>\n",
       "    <tr>\n",
       "      <th>147</th>\n",
       "      <td>0.795669</td>\n",
       "      <td>-0.124958</td>\n",
       "      <td>0.819624</td>\n",
       "      <td>1.053537</td>\n",
       "      <td>2</td>\n",
       "    </tr>\n",
       "    <tr>\n",
       "      <th>148</th>\n",
       "      <td>0.432165</td>\n",
       "      <td>0.800654</td>\n",
       "      <td>0.933356</td>\n",
       "      <td>1.447956</td>\n",
       "      <td>2</td>\n",
       "    </tr>\n",
       "    <tr>\n",
       "      <th>149</th>\n",
       "      <td>0.068662</td>\n",
       "      <td>-0.124958</td>\n",
       "      <td>0.762759</td>\n",
       "      <td>0.790591</td>\n",
       "      <td>1</td>\n",
       "    </tr>\n",
       "  </tbody>\n",
       "</table>\n",
       "<p>150 rows × 5 columns</p>\n",
       "</div>"
      ],
      "text/plain": [
       "     sepal_length  sepal_width  petal_length  petal_width  cluster\n",
       "0       -0.900681     1.032057     -1.341272    -1.312977        3\n",
       "1       -1.143017    -0.124958     -1.341272    -1.312977        0\n",
       "2       -1.385353     0.337848     -1.398138    -1.312977        0\n",
       "3       -1.506521     0.106445     -1.284407    -1.312977        0\n",
       "4       -1.021849     1.263460     -1.341272    -1.312977        3\n",
       "..            ...          ...           ...          ...      ...\n",
       "145      1.038005    -0.124958      0.819624     1.447956        2\n",
       "146      0.553333    -1.281972      0.705893     0.922064        1\n",
       "147      0.795669    -0.124958      0.819624     1.053537        2\n",
       "148      0.432165     0.800654      0.933356     1.447956        2\n",
       "149      0.068662    -0.124958      0.762759     0.790591        1\n",
       "\n",
       "[150 rows x 5 columns]"
      ]
     },
     "execution_count": 67,
     "metadata": {},
     "output_type": "execute_result"
    }
   ],
   "source": [
    "df"
   ]
  },
  {
   "cell_type": "code",
   "execution_count": 68,
   "metadata": {},
   "outputs": [
    {
     "data": {
      "text/plain": [
       "array([3, 0, 2, 1], dtype=int32)"
      ]
     },
     "execution_count": 68,
     "metadata": {},
     "output_type": "execute_result"
    }
   ],
   "source": [
    "df['cluster'].unique()"
   ]
  }
 ],
 "metadata": {
  "kernelspec": {
   "display_name": "Python 3 (ipykernel)",
   "language": "python",
   "name": "python3"
  },
  "language_info": {
   "codemirror_mode": {
    "name": "ipython",
    "version": 3
   },
   "file_extension": ".py",
   "mimetype": "text/x-python",
   "name": "python",
   "nbconvert_exporter": "python",
   "pygments_lexer": "ipython3",
   "version": "3.11.2"
  }
 },
 "nbformat": 4,
 "nbformat_minor": 4
}
